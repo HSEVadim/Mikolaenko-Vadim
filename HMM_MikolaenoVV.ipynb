{
 "cells": [
  {
   "cell_type": "code",
   "execution_count": 1,
   "metadata": {
    "collapsed": false
   },
   "outputs": [],
   "source": [
    "import numpy as np\n",
    "import pandas as pd\n",
    "import math\n",
    "import matplotlib.pyplot as plt\n",
    "import matplotlib.patches as mpatches\n",
    "import matplotlib.lines as lines"
   ]
  },
  {
   "cell_type": "markdown",
   "metadata": {},
   "source": [
    "# General case"
   ]
  },
  {
   "cell_type": "markdown",
   "metadata": {},
   "source": [
    "#### Enter parametrs"
   ]
  },
  {
   "cell_type": "code",
   "execution_count": 2,
   "metadata": {
    "collapsed": false
   },
   "outputs": [
    {
     "name": "stdout",
     "output_type": "stream",
     "text": [
      "Enter the number of states, M: \n",
      "3\n",
      "Enter the number of possible emissions, K: \n",
      "5\n",
      "Enter the length of the sequence, L: \n",
      "400\n"
     ]
    }
   ],
   "source": [
    "# M - состояния \n",
    "# K - возможные выборы \n",
    "# L - длина последовательности\n",
    "\n",
    "print(\"Enter the number of states, M: \")\n",
    "M = int(input())\n",
    "print(\"Enter the number of possible emissions, K: \")\n",
    "K = int(input())\n",
    "print(\"Enter the length of the sequence, L: \")\n",
    "L = int(input())"
   ]
  },
  {
   "cell_type": "markdown",
   "metadata": {},
   "source": [
    "#### Generate tab with data (and save them)"
   ]
  },
  {
   "cell_type": "code",
   "execution_count": 3,
   "metadata": {
    "collapsed": false
   },
   "outputs": [],
   "source": [
    "# Сгенерировать данные\n",
    "transition_random = pd.DataFrame(np.random.randint(0,10,size=(M, M))).add_prefix('p').T.add_prefix('p').T\n",
    "emission_random = pd.DataFrame(np.random.randint(0,10,size=(M, K))).add_prefix('e').T.add_prefix('p').T\n",
    "beginning_distribution_random = pd.DataFrame(np.random.randint(1,10,size=(M, 1))).T.add_prefix('p').T\n",
    "\n",
    "# Нормализовать данные\n",
    "transition_norm = transition_random.div(transition_random.sum(axis=1),axis=0)\n",
    "emission_norm = emission_random.div(emission_random.sum(axis=1),axis=0)\n",
    "beginning_distribution_norm = beginning_distribution_random.div(beginning_distribution_random.sum(axis=0),axis=1)\n",
    "\n",
    "# Сохранить данные\n",
    "transition_norm.to_csv('transition.csv',sep='\\t')\n",
    "emission_norm.to_csv('emission.csv',sep='\\t')\n",
    "beginning_distribution_norm.to_csv('begin_distribution.csv',sep='\\t')"
   ]
  },
  {
   "cell_type": "markdown",
   "metadata": {},
   "source": [
    "### 1.1) Load data"
   ]
  },
  {
   "cell_type": "code",
   "execution_count": 4,
   "metadata": {
    "collapsed": true
   },
   "outputs": [],
   "source": [
    "transition = pd.read_csv('transition.csv',sep='\\t',index_col=0)\n",
    "emission = pd.read_csv('emission.csv',sep='\\t',index_col=0)\n",
    "begin_distribution = pd.read_csv('begin_distribution.csv',sep='\\t',index_col=0)"
   ]
  },
  {
   "cell_type": "code",
   "execution_count": 5,
   "metadata": {
    "collapsed": false
   },
   "outputs": [
    {
     "data": {
      "text/html": [
       "<div>\n",
       "<style scoped>\n",
       "    .dataframe tbody tr th:only-of-type {\n",
       "        vertical-align: middle;\n",
       "    }\n",
       "\n",
       "    .dataframe tbody tr th {\n",
       "        vertical-align: top;\n",
       "    }\n",
       "\n",
       "    .dataframe thead th {\n",
       "        text-align: right;\n",
       "    }\n",
       "</style>\n",
       "<table border=\"1\" class=\"dataframe\">\n",
       "  <thead>\n",
       "    <tr style=\"text-align: right;\">\n",
       "      <th></th>\n",
       "      <th>p0</th>\n",
       "      <th>p1</th>\n",
       "      <th>p2</th>\n",
       "    </tr>\n",
       "  </thead>\n",
       "  <tbody>\n",
       "    <tr>\n",
       "      <th>p0</th>\n",
       "      <td>0.125000</td>\n",
       "      <td>0.437500</td>\n",
       "      <td>0.437500</td>\n",
       "    </tr>\n",
       "    <tr>\n",
       "      <th>p1</th>\n",
       "      <td>0.466667</td>\n",
       "      <td>0.266667</td>\n",
       "      <td>0.266667</td>\n",
       "    </tr>\n",
       "    <tr>\n",
       "      <th>p2</th>\n",
       "      <td>0.333333</td>\n",
       "      <td>0.291667</td>\n",
       "      <td>0.375000</td>\n",
       "    </tr>\n",
       "  </tbody>\n",
       "</table>\n",
       "</div>"
      ],
      "text/plain": [
       "          p0        p1        p2\n",
       "p0  0.125000  0.437500  0.437500\n",
       "p1  0.466667  0.266667  0.266667\n",
       "p2  0.333333  0.291667  0.375000"
      ]
     },
     "execution_count": 5,
     "metadata": {},
     "output_type": "execute_result"
    }
   ],
   "source": [
    "transition"
   ]
  },
  {
   "cell_type": "code",
   "execution_count": 6,
   "metadata": {
    "collapsed": false
   },
   "outputs": [
    {
     "data": {
      "text/html": [
       "<div>\n",
       "<style scoped>\n",
       "    .dataframe tbody tr th:only-of-type {\n",
       "        vertical-align: middle;\n",
       "    }\n",
       "\n",
       "    .dataframe tbody tr th {\n",
       "        vertical-align: top;\n",
       "    }\n",
       "\n",
       "    .dataframe thead th {\n",
       "        text-align: right;\n",
       "    }\n",
       "</style>\n",
       "<table border=\"1\" class=\"dataframe\">\n",
       "  <thead>\n",
       "    <tr style=\"text-align: right;\">\n",
       "      <th></th>\n",
       "      <th>e0</th>\n",
       "      <th>e1</th>\n",
       "      <th>e2</th>\n",
       "      <th>e3</th>\n",
       "      <th>e4</th>\n",
       "    </tr>\n",
       "  </thead>\n",
       "  <tbody>\n",
       "    <tr>\n",
       "      <th>p0</th>\n",
       "      <td>0.000000</td>\n",
       "      <td>0.277778</td>\n",
       "      <td>0.166667</td>\n",
       "      <td>0.333333</td>\n",
       "      <td>0.222222</td>\n",
       "    </tr>\n",
       "    <tr>\n",
       "      <th>p1</th>\n",
       "      <td>0.500000</td>\n",
       "      <td>0.055556</td>\n",
       "      <td>0.222222</td>\n",
       "      <td>0.055556</td>\n",
       "      <td>0.166667</td>\n",
       "    </tr>\n",
       "    <tr>\n",
       "      <th>p2</th>\n",
       "      <td>0.318182</td>\n",
       "      <td>0.045455</td>\n",
       "      <td>0.136364</td>\n",
       "      <td>0.181818</td>\n",
       "      <td>0.318182</td>\n",
       "    </tr>\n",
       "  </tbody>\n",
       "</table>\n",
       "</div>"
      ],
      "text/plain": [
       "          e0        e1        e2        e3        e4\n",
       "p0  0.000000  0.277778  0.166667  0.333333  0.222222\n",
       "p1  0.500000  0.055556  0.222222  0.055556  0.166667\n",
       "p2  0.318182  0.045455  0.136364  0.181818  0.318182"
      ]
     },
     "execution_count": 6,
     "metadata": {},
     "output_type": "execute_result"
    }
   ],
   "source": [
    "emission"
   ]
  },
  {
   "cell_type": "code",
   "execution_count": 7,
   "metadata": {
    "collapsed": false
   },
   "outputs": [
    {
     "data": {
      "text/html": [
       "<div>\n",
       "<style scoped>\n",
       "    .dataframe tbody tr th:only-of-type {\n",
       "        vertical-align: middle;\n",
       "    }\n",
       "\n",
       "    .dataframe tbody tr th {\n",
       "        vertical-align: top;\n",
       "    }\n",
       "\n",
       "    .dataframe thead th {\n",
       "        text-align: right;\n",
       "    }\n",
       "</style>\n",
       "<table border=\"1\" class=\"dataframe\">\n",
       "  <thead>\n",
       "    <tr style=\"text-align: right;\">\n",
       "      <th></th>\n",
       "      <th>0</th>\n",
       "    </tr>\n",
       "  </thead>\n",
       "  <tbody>\n",
       "    <tr>\n",
       "      <th>p0</th>\n",
       "      <td>0.200000</td>\n",
       "    </tr>\n",
       "    <tr>\n",
       "      <th>p1</th>\n",
       "      <td>0.466667</td>\n",
       "    </tr>\n",
       "    <tr>\n",
       "      <th>p2</th>\n",
       "      <td>0.333333</td>\n",
       "    </tr>\n",
       "  </tbody>\n",
       "</table>\n",
       "</div>"
      ],
      "text/plain": [
       "           0\n",
       "p0  0.200000\n",
       "p1  0.466667\n",
       "p2  0.333333"
      ]
     },
     "execution_count": 7,
     "metadata": {},
     "output_type": "execute_result"
    }
   ],
   "source": [
    "begin_distribution"
   ]
  },
  {
   "cell_type": "markdown",
   "metadata": {},
   "source": [
    "### 1.2) HMM random generator:"
   ]
  },
  {
   "cell_type": "code",
   "execution_count": 8,
   "metadata": {
    "collapsed": false
   },
   "outputs": [],
   "source": [
    "def random_choice(distribution):\n",
    "    rand = np.random.random() # равномероятно попадает в [0,1)\n",
    "    rand = rand*distribution.sum() # равномероятно попадает в [0,dist_sum)\n",
    "    position = 0 \n",
    "    for i in range(len(distribution)):\n",
    "        position += distribution[i]\n",
    "        # position = правая граница интервала i-го интервала, размер которого пропорционален i-ой вероятности\n",
    "        if rand < position: # rand попал в интервал для i-ой вероятности\n",
    "            return i\n",
    "        \n",
    "def HMMrg_path(begin_dist,transition,Length):\n",
    "    path = []\n",
    "    path.append('p'+str(random_choice(begin_dist['0'])))\n",
    "    for i in range(1,Length):\n",
    "        path.append('p'+str(random_choice(transition.T[path[i-1]])))\n",
    "    return path\n",
    "\n",
    "def HMMrg_sequence(path,emission,Length):\n",
    "    sequence = []\n",
    "    for i in range(Length): \n",
    "        sequence.append('e'+str(random_choice(emission.T[path[i]])))\n",
    "    return sequence"
   ]
  },
  {
   "cell_type": "code",
   "execution_count": 9,
   "metadata": {
    "collapsed": false
   },
   "outputs": [],
   "source": [
    "# Сгенерировать последовательности\n",
    "path_random = HMMrg_path(begin_distribution,transition,L)\n",
    "sequence_random = HMMrg_sequence(path_random,emission,L)\n",
    "\n",
    "# Сохранить данные\n",
    "path_random_df = pd.DataFrame({'path': path_random})\n",
    "path_random_df.to_csv('Path.csv',sep='\\t')\n",
    "sequence_random_df = pd.DataFrame({'sequence': sequence_random})\n",
    "sequence_random_df.to_csv('Emissions.csv',sep='\\t')\n",
    "\n",
    "# Загрузить данные\n",
    "path = pd.read_csv('Path.csv',sep='\\t',index_col=0)\n",
    "sequence = pd.read_csv('Emissions.csv',sep='\\t',index_col=0)"
   ]
  },
  {
   "cell_type": "code",
   "execution_count": 10,
   "metadata": {
    "collapsed": false
   },
   "outputs": [],
   "source": [
    "#Функции, упрощающие визуальное восприятие кода при выводе массивов на экран\n",
    "\n",
    "def print_path(p):\n",
    "    print(\"    Path (states, Pi): \")\n",
    "    for element in p['path']:\n",
    "        print(element + '  ', end='')\n",
    "        \n",
    "def print_emissions(e):\n",
    "    print(\"\\n\\n    Emissions (sequence of observation, x): \")\n",
    "    for element in e['sequence']:\n",
    "        print(element + '  ', end='')\n",
    "        \n",
    "def print_recovered_path(rp):\n",
    "    print(\"\\n\\n    Recovered path (states, Pi): \")\n",
    "    for i in range(len(rp)):\n",
    "        print(rp[i] + '  ', end='')\n",
    "\n",
    "def print_recovered_path_log(rpl):\n",
    "    print(\"\\n\\n    Recovered path using logarithm (states, Pi): \")\n",
    "    for i in range(len(rpl)):\n",
    "        print(rpl[i] + '  ', end='')"
   ]
  },
  {
   "cell_type": "code",
   "execution_count": 11,
   "metadata": {
    "collapsed": false
   },
   "outputs": [
    {
     "name": "stdout",
     "output_type": "stream",
     "text": [
      "    Path (states, Pi): \n",
      "p1  p0  p2  p0  p1  p1  p1  p0  p1  p0  p2  p2  p2  p1  p1  p1  p2  p2  p0  p2  p2  p2  p0  p2  p1  p2  p0  p2  p0  p2  p1  p0  p1  p0  p2  p1  p1  p2  p1  p2  p2  p0  p2  p0  p1  p2  p1  p1  p0  p2  p1  p1  p1  p1  p0  p1  p0  p2  p0  p2  p0  p1  p0  p2  p2  p2  p2  p0  p2  p0  p0  p1  p2  p1  p0  p1  p2  p2  p2  p1  p2  p1  p0  p1  p0  p2  p0  p1  p0  p1  p2  p0  p0  p2  p1  p0  p0  p2  p0  p0  p0  p2  p1  p0  p2  p0  p1  p1  p0  p1  p1  p0  p2  p1  p0  p2  p0  p2  p0  p0  p1  p0  p2  p2  p1  p0  p2  p2  p1  p0  p2  p0  p2  p1  p2  p2  p2  p2  p1  p0  p2  p2  p0  p1  p0  p1  p0  p0  p1  p0  p2  p1  p2  p0  p2  p0  p1  p2  p2  p2  p0  p2  p2  p0  p2  p0  p2  p2  p2  p1  p0  p0  p1  p0  p2  p0  p1  p0  p1  p0  p1  p0  p2  p2  p2  p1  p0  p1  p0  p1  p1  p1  p1  p0  p2  p2  p1  p2  p0  p0  p1  p2  p1  p2  p2  p2  p2  p0  p1  p2  p2  p2  p0  p1  p0  p1  p2  p1  p0  p2  p1  p2  p2  p2  p0  p1  p1  p0  p1  p1  p2  p0  p1  p0  p1  p0  p1  p0  p1  p2  p1  p1  p2  p2  p0  p2  p2  p0  p1  p0  p2  p2  p2  p2  p2  p1  p2  p0  p2  p0  p0  p2  p0  p2  p1  p0  p1  p0  p2  p0  p2  p1  p2  p1  p2  p2  p1  p0  p1  p0  p1  p0  p0  p1  p0  p1  p2  p0  p2  p1  p2  p0  p1  p1  p0  p1  p1  p0  p2  p2  p2  p0  p2  p2  p0  p1  p0  p0  p1  p1  p1  p0  p2  p0  p0  p2  p2  p2  p2  p1  p2  p0  p2  p1  p0  p1  p1  p1  p0  p2  p0  p1  p1  p2  p2  p0  p1  p2  p1  p2  p1  p1  p1  p1  p2  p0  p2  p2  p0  p2  p1  p1  p1  p1  p1  p0  p2  p0  p0  p2  p0  p2  p1  p2  p2  p1  p0  p2  p2  p1  p0  p2  p0  p2  p1  p2  p0  p1  p0  p1  p1  p2  p2  p2  p1  p0  p1  p0  p1  p0  p2  p1  p2  p2  p2  p1  p0  p1  p1  p0  \n",
      "\n",
      "    Emissions (sequence of observation, x): \n",
      "e0  e4  e0  e3  e0  e4  e2  e3  e0  e4  e0  e3  e0  e0  e0  e3  e0  e0  e3  e0  e2  e4  e3  e0  e4  e4  e1  e0  e1  e2  e0  e1  e0  e3  e4  e0  e2  e2  e4  e0  e4  e1  e4  e3  e2  e0  e0  e0  e3  e3  e1  e4  e3  e1  e2  e2  e2  e3  e1  e4  e1  e0  e3  e4  e0  e0  e3  e3  e3  e2  e3  e4  e4  e2  e2  e0  e1  e1  e3  e0  e3  e0  e3  e3  e4  e3  e3  e0  e1  e0  e3  e3  e3  e0  e3  e1  e3  e4  e3  e1  e2  e2  e1  e3  e0  e3  e2  e2  e4  e0  e0  e4  e2  e0  e2  e0  e3  e4  e4  e4  e0  e1  e0  e0  e0  e4  e0  e3  e4  e3  e2  e4  e4  e0  e4  e0  e2  e3  e0  e3  e2  e0  e4  e1  e2  e0  e3  e1  e2  e2  e4  e0  e0  e3  e2  e3  e2  e0  e0  e2  e4  e1  e4  e1  e0  e2  e4  e4  e4  e0  e3  e2  e4  e2  e4  e3  e2  e3  e0  e1  e2  e3  e3  e0  e2  e0  e3  e2  e4  e4  e1  e0  e0  e2  e0  e4  e3  e3  e3  e4  e2  e4  e2  e3  e4  e0  e3  e1  e2  e4  e0  e0  e1  e2  e1  e1  e3  e0  e1  e4  e1  e3  e0  e0  e3  e0  e0  e2  e4  e4  e3  e3  e0  e2  e2  e3  e4  e3  e0  e3  e0  e0  e0  e4  e3  e4  e2  e1  e2  e4  e4  e1  e2  e4  e3  e0  e1  e1  e0  e4  e2  e0  e4  e4  e0  e4  e0  e2  e2  e1  e3  e0  e4  e0  e0  e0  e4  e3  e2  e4  e0  e3  e1  e4  e1  e1  e4  e2  e2  e2  e3  e3  e4  e4  e3  e2  e2  e1  e0  e0  e4  e1  e3  e0  e1  e0  e1  e4  e0  e0  e2  e3  e4  e1  e3  e2  e0  e0  e3  e3  e4  e3  e3  e0  e2  e0  e0  e4  e3  e4  e2  e0  e0  e3  e1  e2  e0  e4  e0  e0  e0  e2  e0  e0  e4  e4  e3  e4  e3  e0  e0  e0  e4  e0  e0  e2  e2  e1  e2  e4  e4  e0  e4  e1  e3  e2  e3  e3  e4  e0  e4  e2  e1  e3  e0  e3  e3  e0  e1  e0  e0  e1  e4  e0  e2  e4  e4  e1  e2  e2  e0  e0  e1  e0  e0  e0  e4  e2  e0  e1  "
     ]
    }
   ],
   "source": [
    "print_path(path)\n",
    "print_emissions(sequence)"
   ]
  },
  {
   "cell_type": "markdown",
   "metadata": {},
   "source": [
    "### 1.3) Viterbi algorithm"
   ]
  },
  {
   "cell_type": "code",
   "execution_count": 12,
   "metadata": {
    "collapsed": false
   },
   "outputs": [],
   "source": [
    "def viterbi_algorithm(A,B,pi,seq):\n",
    "    L = len(seq)\n",
    "    M = len(A)\n",
    "    \n",
    "    #Initialization\n",
    "    Matr_value = pd.DataFrame(np.zeros((M,L+1)),index=A.index)\n",
    "    Matr_value[0]=pi['0']\n",
    "    Matr_index = pd.DataFrame(np.zeros((M,L+1)),index=A.index)\n",
    "    \n",
    "    #Recursion\n",
    "    for k in Matr_value.columns[1:]:\n",
    "        for i in Matr_value.index:\n",
    "            values = []\n",
    "            for j in Matr_value.index:\n",
    "                values.append(Matr_value[k-1][j] * A[i][j])\n",
    "            max_value = values[0]\n",
    "            max_index = 0\n",
    "            for ind, val in enumerate(values):\n",
    "                if val>max_value:\n",
    "                    max_value = val\n",
    "                    max_index = ind\n",
    "            Matr_value[k][i] = B[seq['sequence'][k-1]][i] * max_value\n",
    "            Matr_index[k][i] = max_index\n",
    "    \n",
    "    #Traceback      \n",
    "    path = []\n",
    "    idx = Matr_value[L].idxmax(axis=0)\n",
    "    path = [idx]+path\n",
    "    k = 'p'+str(Matr_index[L][idx]).split('.')[0]\n",
    "    path = [k] + path \n",
    "    for i in range(L-1,1,-1):\n",
    "        k = 'p'+ str(Matr_index[i][k]).split('.')[0]\n",
    "        path = [k] + path\n",
    "    return path"
   ]
  },
  {
   "cell_type": "code",
   "execution_count": 13,
   "metadata": {
    "collapsed": true
   },
   "outputs": [],
   "source": [
    "def log_matr(Matr):\n",
    "    rows=len(Matr.index)\n",
    "    columns=len(Matr.columns)\n",
    "    log_Matr = pd.DataFrame([[-1000000000.0 for i in range(columns)] for j in range(rows)],index=Matr.index, columns=Matr.columns)\n",
    "    for i in Matr.columns:\n",
    "        for j in Matr.index:\n",
    "            if Matr[i][j] != 0:\n",
    "                log_Matr[i][j] = math.log(Matr[i][j])\n",
    "    return log_Matr\n",
    "\n",
    "def viterbi_algorithm_log(A,B,pi,seq):\n",
    "    L = len(seq)\n",
    "    M = len(A)\n",
    "    A_log = log_matr(A)\n",
    "    B_log = log_matr(B)\n",
    "    pi_log = log_matr(pi)\n",
    "    \n",
    "    #Initialization\n",
    "    Matr_value = pd.DataFrame(np.zeros((M,L+1)),index=A.index)\n",
    "    Matr_value[0]=pi_log['0']\n",
    "    Matr_index = pd.DataFrame(np.zeros((M,L+1)),index=A.index)\n",
    "    \n",
    "    #Recursion\n",
    "    for k in Matr_value.columns[1:]:\n",
    "        for i in Matr_value.index:\n",
    "            values = []\n",
    "            for j in Matr_value.index:\n",
    "                values.append(Matr_value[k-1][j] + A_log[i][j])\n",
    "            max_value = values[0]\n",
    "            max_index = 0\n",
    "            for ind, val in enumerate(values):\n",
    "                if val>max_value:\n",
    "                    max_value = val\n",
    "                    max_index = ind\n",
    "            Matr_value[k][i] = B_log[seq['sequence'][k-1]][i] + max_value\n",
    "            Matr_index[k][i] = max_index\n",
    "    \n",
    "    #Traceback\n",
    "    path = []\n",
    "    idx = Matr_value[L].idxmax(axis=0)\n",
    "    path = [idx]+path\n",
    "    k = 'p'+str(Matr_index[L][idx]).split('.')[0]\n",
    "    path = [k] + path \n",
    "    for i in range(L-1,1,-1):\n",
    "        k = 'p'+ str(Matr_index[i][k]).split('.')[0]\n",
    "        path = [k] + path\n",
    "    return path"
   ]
  },
  {
   "cell_type": "code",
   "execution_count": 14,
   "metadata": {
    "collapsed": false
   },
   "outputs": [],
   "source": [
    "#Воссоздание последовательности\n",
    "recovered_path = viterbi_algorithm(transition,emission,begin_distribution,sequence)\n",
    "#Воссоздание последовательности в логарифмическом пространстве\n",
    "recovered_path_log = viterbi_algorithm_log(transition,emission,begin_distribution,sequence)"
   ]
  },
  {
   "cell_type": "code",
   "execution_count": 15,
   "metadata": {
    "collapsed": false
   },
   "outputs": [
    {
     "name": "stdout",
     "output_type": "stream",
     "text": [
      "    Path (states, Pi): \n",
      "p1  p0  p2  p0  p1  p1  p1  p0  p1  p0  p2  p2  p2  p1  p1  p1  p2  p2  p0  p2  p2  p2  p0  p2  p1  p2  p0  p2  p0  p2  p1  p0  p1  p0  p2  p1  p1  p2  p1  p2  p2  p0  p2  p0  p1  p2  p1  p1  p0  p2  p1  p1  p1  p1  p0  p1  p0  p2  p0  p2  p0  p1  p0  p2  p2  p2  p2  p0  p2  p0  p0  p1  p2  p1  p0  p1  p2  p2  p2  p1  p2  p1  p0  p1  p0  p2  p0  p1  p0  p1  p2  p0  p0  p2  p1  p0  p0  p2  p0  p0  p0  p2  p1  p0  p2  p0  p1  p1  p0  p1  p1  p0  p2  p1  p0  p2  p0  p2  p0  p0  p1  p0  p2  p2  p1  p0  p2  p2  p1  p0  p2  p0  p2  p1  p2  p2  p2  p2  p1  p0  p2  p2  p0  p1  p0  p1  p0  p0  p1  p0  p2  p1  p2  p0  p2  p0  p1  p2  p2  p2  p0  p2  p2  p0  p2  p0  p2  p2  p2  p1  p0  p0  p1  p0  p2  p0  p1  p0  p1  p0  p1  p0  p2  p2  p2  p1  p0  p1  p0  p1  p1  p1  p1  p0  p2  p2  p1  p2  p0  p0  p1  p2  p1  p2  p2  p2  p2  p0  p1  p2  p2  p2  p0  p1  p0  p1  p2  p1  p0  p2  p1  p2  p2  p2  p0  p1  p1  p0  p1  p1  p2  p0  p1  p0  p1  p0  p1  p0  p1  p2  p1  p1  p2  p2  p0  p2  p2  p0  p1  p0  p2  p2  p2  p2  p2  p1  p2  p0  p2  p0  p0  p2  p0  p2  p1  p0  p1  p0  p2  p0  p2  p1  p2  p1  p2  p2  p1  p0  p1  p0  p1  p0  p0  p1  p0  p1  p2  p0  p2  p1  p2  p0  p1  p1  p0  p1  p1  p0  p2  p2  p2  p0  p2  p2  p0  p1  p0  p0  p1  p1  p1  p0  p2  p0  p0  p2  p2  p2  p2  p1  p2  p0  p2  p1  p0  p1  p1  p1  p0  p2  p0  p1  p1  p2  p2  p0  p1  p2  p1  p2  p1  p1  p1  p1  p2  p0  p2  p2  p0  p2  p1  p1  p1  p1  p1  p0  p2  p0  p0  p2  p0  p2  p1  p2  p2  p1  p0  p2  p2  p1  p0  p2  p0  p2  p1  p2  p0  p1  p0  p1  p1  p2  p2  p2  p1  p0  p1  p0  p1  p0  p2  p1  p2  p2  p2  p1  p0  p1  p1  p0  \n",
      "\n",
      "    Recovered path (states, Pi): \n",
      "p1  p0  p1  p0  p1  p0  p1  p0  p1  p0  p1  p0  p1  p1  p1  p0  p1  p1  p0  p1  p0  p2  p0  p1  p0  p2  p0  p1  p0  p1  p1  p0  p1  p0  p2  p1  p0  p1  p0  p1  p2  p0  p2  p0  p1  p1  p1  p1  p0  p2  p0  p2  p2  p0  p1  p0  p1  p0  p0  p2  p0  p1  p0  p2  p1  p1  p0  p2  p0  p1  p0  p2  p2  p1  p0  p1  p0  p1  p0  p1  p0  p1  p0  p2  p2  p2  p0  p1  p0  p1  p0  p2  p0  p1  p0  p1  p0  p2  p2  p0  p1  p1  p0  p2  p1  p0  p1  p0  p2  p1  p1  p0  p1  p1  p0  p1  p0  p2  p2  p2  p1  p0  p1  p1  p1  p0  p1  p0  p2  p0  p1  p0  p2  p1  p0  p1  p1  p0  p1  p0  p1  p1  p2  p0  p1  p1  p0  p0  p1  p0  p2  p1  p1  p0  p1  p0  p1  p1  p1  p0  p2  p0  p2  p0  p1  p0  p2  p2  p2  p1  p0  p1  p0  p1  p2  p0  p1  p0  p1  p0  p1  p0  p2  p1  p0  p1  p0  p1  p0  p2  p0  p1  p1  p0  p1  p2  p0  p2  p0  p2  p1  p0  p1  p0  p2  p1  p0  p0  p1  p0  p1  p1  p0  p1  p0  p1  p0  p1  p0  p2  p0  p2  p1  p1  p0  p1  p1  p0  p2  p2  p2  p0  p1  p0  p1  p0  p2  p0  p1  p0  p1  p1  p1  p2  p0  p2  p1  p0  p1  p0  p2  p0  p1  p2  p0  p1  p0  p0  p1  p0  p1  p1  p0  p2  p1  p0  p1  p0  p1  p0  p2  p1  p0  p1  p1  p1  p2  p0  p1  p0  p1  p0  p0  p2  p0  p0  p2  p1  p0  p1  p0  p2  p2  p2  p0  p1  p1  p0  p1  p1  p2  p0  p2  p1  p0  p1  p0  p2  p1  p1  p1  p0  p2  p0  p2  p0  p1  p1  p0  p2  p2  p2  p0  p1  p0  p1  p1  p2  p0  p2  p0  p1  p1  p0  p0  p1  p1  p0  p1  p1  p1  p0  p1  p1  p0  p2  p0  p2  p0  p0  p0  p0  p0  p0  p0  p0  p0  p0  p0  p0  p0  p0  p0  p0  p0  p0  p0  p0  p0  p0  p0  p0  p0  p0  p0  p0  p0  p0  p0  p0  p0  p0  p0  p0  p0  p0  p0  p0  p0  p0  p0  p0  p0  p0  p0  p0  p0  p0  p0  p0  \n",
      "\n",
      "    Recovered path using logarithm (states, Pi): \n",
      "p1  p0  p1  p0  p1  p0  p1  p0  p1  p0  p1  p0  p1  p1  p1  p0  p1  p1  p0  p1  p0  p2  p0  p1  p0  p2  p0  p1  p0  p1  p1  p0  p1  p0  p2  p1  p0  p1  p0  p1  p2  p0  p2  p0  p1  p1  p1  p1  p0  p2  p0  p2  p2  p0  p1  p0  p1  p0  p0  p2  p0  p1  p0  p2  p1  p1  p0  p2  p0  p1  p0  p2  p2  p1  p0  p1  p0  p1  p0  p1  p0  p1  p0  p2  p2  p2  p0  p1  p0  p1  p0  p2  p0  p1  p0  p1  p0  p2  p2  p0  p1  p1  p0  p2  p1  p0  p1  p0  p2  p1  p1  p0  p1  p1  p0  p1  p0  p2  p2  p2  p1  p0  p1  p1  p1  p0  p1  p0  p2  p0  p1  p0  p2  p1  p0  p1  p1  p0  p1  p0  p1  p1  p2  p0  p1  p1  p0  p0  p1  p0  p2  p1  p1  p0  p1  p0  p1  p1  p1  p0  p2  p0  p2  p0  p1  p0  p2  p2  p2  p1  p0  p1  p0  p1  p2  p0  p1  p0  p1  p0  p1  p0  p2  p1  p0  p1  p0  p1  p0  p2  p0  p1  p1  p0  p1  p2  p0  p2  p0  p2  p1  p0  p1  p0  p2  p1  p0  p0  p1  p0  p1  p1  p0  p1  p0  p1  p0  p1  p0  p2  p0  p2  p1  p1  p0  p1  p1  p0  p2  p2  p2  p0  p1  p0  p1  p0  p2  p0  p1  p0  p1  p1  p1  p2  p0  p2  p1  p0  p1  p0  p2  p0  p1  p2  p0  p1  p0  p0  p1  p0  p1  p1  p0  p2  p1  p0  p1  p0  p1  p0  p2  p1  p0  p1  p1  p1  p2  p0  p1  p0  p1  p0  p0  p2  p0  p0  p2  p1  p0  p1  p0  p2  p2  p2  p0  p1  p1  p0  p1  p1  p2  p0  p2  p1  p0  p1  p0  p2  p1  p1  p1  p0  p2  p0  p2  p0  p1  p1  p0  p2  p2  p2  p0  p1  p0  p1  p1  p2  p0  p2  p0  p1  p1  p0  p0  p1  p1  p0  p1  p1  p1  p0  p1  p1  p0  p2  p0  p2  p0  p1  p1  p1  p0  p1  p1  p0  p1  p0  p1  p0  p2  p2  p2  p0  p2  p1  p0  p2  p2  p1  p0  p1  p0  p2  p1  p0  p2  p1  p0  p1  p1  p0  p2  p1  p0  p2  p2  p0  p1  p0  p1  p1  p0  p1  p1  p1  p0  p1  p1  p0  "
     ]
    }
   ],
   "source": [
    "print_path(path)\n",
    "print_recovered_path(recovered_path)\n",
    "print_recovered_path_log(recovered_path_log)"
   ]
  },
  {
   "cell_type": "code",
   "execution_count": 16,
   "metadata": {
    "collapsed": true
   },
   "outputs": [],
   "source": [
    "#Функции, упрощающие визуальное восприятие кода при анализе восстановленных последовательностей\n",
    "\n",
    "def print_vitberi_analysis(p,rp,rpl):\n",
    "    print(\"\\n\\n       VITERBI analysis of results:\")\n",
    "\n",
    "    L_p = len(p)\n",
    "    success = 0\n",
    "    for i in range(L_p):\n",
    "        if rp[i] == p['path'][i]:\n",
    "            success+=1\n",
    "    print(\"NO   logarithm: Right recovers: \", success, \" (out of \", L_p, \")\")\n",
    "    \n",
    "    success_log = 0\n",
    "    for i in range(L_p):\n",
    "        if rpl[i] == p['path'][i]:\n",
    "            success_log+=1\n",
    "    print(\"WITH logarithm: Right recovers: \", success_log, \" (out of \", L_p, \")\")\n",
    "\n",
    "    difference = 0\n",
    "    for i in range(L_p):\n",
    "        if rpl[i] != rp[i]:\n",
    "            difference+=1\n",
    "    print(\"   NO vs  WITH: Differences:    \", difference, \"  (out of \", L_p, \")\")"
   ]
  },
  {
   "cell_type": "code",
   "execution_count": 17,
   "metadata": {
    "collapsed": false
   },
   "outputs": [
    {
     "name": "stdout",
     "output_type": "stream",
     "text": [
      "\n",
      "\n",
      "       VITERBI analysis of results:\n",
      "NO   logarithm: Right recovers:  214  (out of  400 )\n",
      "WITH logarithm: Right recovers:  231  (out of  400 )\n",
      "   NO vs  WITH: Differences:     34   (out of  400 )\n"
     ]
    }
   ],
   "source": [
    "print_vitberi_analysis(path,recovered_path,recovered_path_log)"
   ]
  },
  {
   "cell_type": "markdown",
   "metadata": {},
   "source": [
    "### 1.4) Forward algorithm"
   ]
  },
  {
   "cell_type": "code",
   "execution_count": 18,
   "metadata": {
    "collapsed": false
   },
   "outputs": [],
   "source": [
    "def forward_algorithm(A,B,pi,seq):\n",
    "    L = len(seq)\n",
    "    M = len(A)\n",
    "    \n",
    "    #Initialisation\n",
    "    F = np.zeros((L,M))\n",
    "    F[0] = pi['0'] * B[seq['sequence'][0]]\n",
    "    \n",
    "    #Recursion\n",
    "    for i in range(1, L):\n",
    "        temp = np.zeros(M)\n",
    "        for k in range(M):\n",
    "            temp += F[i-1, k] * A.T['p'+str(k)]\n",
    "        F[i] = B[seq['sequence'][i]] * temp\n",
    "            \n",
    "    #Termination\n",
    "    P = F[L-1].sum()\n",
    "    \n",
    "    return pd.DataFrame(F).add_prefix('p').T, P"
   ]
  },
  {
   "cell_type": "code",
   "execution_count": 19,
   "metadata": {
    "collapsed": false
   },
   "outputs": [],
   "source": [
    "def sum_log_vec(A,B):\n",
    "    Sum_log = np.zeros(len(A))\n",
    "    for i in range(len(A)):\n",
    "        if A[i] == 0 or B[i] == 0:\n",
    "            if A[i] == 0:\n",
    "                Sum_log[i] = B[i]\n",
    "            elif B == 0:\n",
    "                Sum_log[i] = A[i]\n",
    "        else:\n",
    "            if A[i] > B[i]:\n",
    "                Sum_log[i] = A[i] + np.log(1 + np.exp(B[i] - A[i]))\n",
    "            if A[i] < B[i]:\n",
    "                Sum_log[i] = B[i] + np.log(1 + np.exp(A[i] - B[i]))\n",
    "    return Sum_log\n",
    "\n",
    "def sum_log_val(A,B):\n",
    "    if A == 0 or B == 0:\n",
    "        if A == 0:\n",
    "            return B\n",
    "        elif B == 0:\n",
    "            return A\n",
    "    else:\n",
    "        if A > B:\n",
    "            return A + np.log(1 + np.exp(B - A))\n",
    "        if A < B:\n",
    "            return B + np.log(1 + np.exp(A - B))\n",
    "\n",
    "def forward_algorithm_log(A,B,pi,seq):\n",
    "    L = len(seq)\n",
    "    M = len(A)\n",
    "    A_log = log_matr(A)\n",
    "    B_log = log_matr(B)\n",
    "    pi_log = log_matr(pi)\n",
    "    \n",
    "    #Initialisation\n",
    "    F = np.zeros((L,M))\n",
    "    F[0] = pi_log['0'] + B_log[seq['sequence'][0]]\n",
    "    \n",
    "    #Recursion\n",
    "    for i in range(1, L):\n",
    "        temp = np.zeros(M)\n",
    "        for k in range(M):\n",
    "            temp = sum_log_vec(temp, F[i-1, k] + A_log.T['p'+str(k)])\n",
    "        F[i] = B_log[seq['sequence'][i]] + temp\n",
    "        \n",
    "    #Termination\n",
    "    P = 0\n",
    "    for k in range(M):\n",
    "        P = sum_log_val(P, F[L-1, k])\n",
    "    \n",
    "    return pd.DataFrame(F).add_prefix('p').T, P"
   ]
  },
  {
   "cell_type": "code",
   "execution_count": 20,
   "metadata": {
    "collapsed": false,
    "scrolled": true
   },
   "outputs": [
    {
     "name": "stdout",
     "output_type": "stream",
     "text": [
      "Forward algorithm. Sequence Probability (without logarithm): \n",
      " 1.39233158888e-274\n",
      "Forward algorithm. Sequence Probability (using logarithm): \n",
      " -630.577335736\n"
     ]
    }
   ],
   "source": [
    "F_Matrix, F_P = forward_algorithm(transition,emission,begin_distribution,sequence)\n",
    "print('Forward algorithm. Sequence Probability (without logarithm): \\n', F_P)\n",
    "F_Matrix_log, F_P_log = forward_algorithm_log(transition,emission,begin_distribution,sequence)\n",
    "print('Forward algorithm. Sequence Probability (using logarithm): \\n', F_P_log)"
   ]
  },
  {
   "cell_type": "markdown",
   "metadata": {},
   "source": [
    "### 1.5) Backward algorithm"
   ]
  },
  {
   "cell_type": "code",
   "execution_count": 21,
   "metadata": {
    "collapsed": true
   },
   "outputs": [],
   "source": [
    "def backward_algorithm(A,B,pi,seq):\n",
    "    L = len(seq)\n",
    "    M = len(A)\n",
    "        \n",
    "    #Initialisation\n",
    "    F = np.zeros((L,M))\n",
    "    for i in range(M):\n",
    "        F[L - 1,i] = 1\n",
    "        \n",
    "    #Recursion\n",
    "    for i in range(L - 2, -1, -1):\n",
    "        for l in range(M):\n",
    "            F[i] += A['p'+str(l)] * B.T['p'+str(l)][str(seq['sequence'][i+1])] * F[i+1, l]\n",
    "            \n",
    "    #Termination\n",
    "    P = 0\n",
    "    for l in range(M):\n",
    "        P += pi['0'][l] * B.T['p'+str(l)][str(seq['sequence'][0])] * F[0, l]\n",
    "    return pd.DataFrame(F).add_prefix('p').T, P"
   ]
  },
  {
   "cell_type": "code",
   "execution_count": 22,
   "metadata": {
    "collapsed": true
   },
   "outputs": [],
   "source": [
    "def backward_algorithm_log(A,B,pi,seq):\n",
    "    L = len(seq)\n",
    "    M = len(A)\n",
    "    A_log = log_matr(A)\n",
    "    B_log = log_matr(B)\n",
    "    pi_log = log_matr(pi)\n",
    "        \n",
    "    #Initialisation\n",
    "    F = np.zeros((L,M))\n",
    "    for i in range(M):\n",
    "        F[L - 1,i] = np.log(1)\n",
    "        \n",
    "    #Recursion\n",
    "    for i in range(L - 2, -1, -1):\n",
    "        for l in range(M):\n",
    "            F[i] = sum_log_vec(F[i], A_log['p'+str(l)] + B_log.T['p'+str(l)][str(seq['sequence'][i+1])] + F[i+1, l])\n",
    "            \n",
    "    #Termination\n",
    "    P = 0\n",
    "    for l in range(M):\n",
    "        P = sum_log_val(P, pi_log['0'][l] + B_log.T['p'+str(l)][str(seq['sequence'][0])] + F[0, l])\n",
    "    return pd.DataFrame(F).add_prefix('p').T, P"
   ]
  },
  {
   "cell_type": "code",
   "execution_count": 23,
   "metadata": {
    "collapsed": false
   },
   "outputs": [
    {
     "name": "stdout",
     "output_type": "stream",
     "text": [
      "Backward algorithm. Sequence Probability (without logarithm): \n",
      " 1.39233158888e-274\n",
      "Backward algorithm. Sequence Probability (using logarithm): \n",
      " -630.577335736\n"
     ]
    }
   ],
   "source": [
    "B_Matrix, B_P = backward_algorithm(transition,emission,begin_distribution,sequence)\n",
    "print('Backward algorithm. Sequence Probability (without logarithm): \\n', B_P)\n",
    "B_Matrix_log, B_P_log = backward_algorithm_log(transition,emission,begin_distribution,sequence)\n",
    "print('Backward algorithm. Sequence Probability (using logarithm): \\n', B_P_log)"
   ]
  },
  {
   "cell_type": "markdown",
   "metadata": {},
   "source": [
    "### 1.6) Posterior decoding"
   ]
  },
  {
   "cell_type": "code",
   "execution_count": 24,
   "metadata": {
    "collapsed": true
   },
   "outputs": [],
   "source": [
    "def posterior_decoding(F, B, P):\n",
    "    L = len(F.T)\n",
    "    posterior = []\n",
    "    for i in range(L):\n",
    "        posterior.append(F[i][0] * B[i][0] / P)\n",
    "    return posterior"
   ]
  },
  {
   "cell_type": "code",
   "execution_count": 25,
   "metadata": {
    "collapsed": false
   },
   "outputs": [],
   "source": [
    "    #Используем то, что было расчитанно ранее:\n",
    "#F_Matrix, F_P = forward_algorithm(transition,emission,begin_distribution,sequence)\n",
    "#B_Matrix, B_P = backward_algorithm(transition,emission,begin_distribution,sequence)\n",
    "\n",
    "post = posterior_decoding(F_Matrix, B_Matrix, F_P)"
   ]
  },
  {
   "cell_type": "markdown",
   "metadata": {
    "collapsed": true
   },
   "source": [
    "# UC - Unfair Casino"
   ]
  },
  {
   "cell_type": "markdown",
   "metadata": {},
   "source": [
    "Begin distribution: \n",
    "1. 2/3\n",
    "2. 1/3\n",
    "\n",
    "Transition: The die thrower likes to keep in one state (fair/biased), and the tranisition from \n",
    "1. Fair-> Fair : .95\n",
    "2. Fair->Biased: 1-.95=.05\n",
    "3. Biased->Biased: .90\n",
    "4. Biased->Biased=1-.90=.10\n",
    "\n",
    "Emission: \n",
    "1. The fair die -> Pr(1)=Pr(2)=Pr(3)=Pr(4)=Pr(5)=Pr(5)=1/6\n",
    "2. The biased die -> Pr(1)=Pr(2)=Pr(3)=Pr(4)=Pr(5)=0.1 and Pr(6)=0.5"
   ]
  },
  {
   "cell_type": "markdown",
   "metadata": {},
   "source": [
    "### 2.1) UC generation"
   ]
  },
  {
   "cell_type": "code",
   "execution_count": 26,
   "metadata": {
    "collapsed": false
   },
   "outputs": [
    {
     "name": "stdout",
     "output_type": "stream",
     "text": [
      "Enter the length of the sequence, L: \n",
      "200\n"
     ]
    }
   ],
   "source": [
    "print(\"Enter the length of the sequence, L: \")\n",
    "L_UC = int(input())"
   ]
  },
  {
   "cell_type": "code",
   "execution_count": 27,
   "metadata": {
    "collapsed": false
   },
   "outputs": [],
   "source": [
    "# Создать матрицы\n",
    "Unfair_casino_transition = pd.DataFrame(np.array([[.95,.05],[.1,.9]])).add_prefix('p').T.add_prefix('p').T\n",
    "Unfair_casino_emission = pd.DataFrame(np.array([[1.0/6 for i in range(6)],[.1,.1,.1,.1,.1,.5]])).add_prefix('e').T.add_prefix('p').T\n",
    "Unfair_casino_beginning_distribution = pd.DataFrame(np.array([2.0/3,1.0/3])).T.add_prefix('p').T\n",
    "\n",
    "# Сохранить данные\n",
    "Unfair_casino_transition.to_csv('transition.csv',sep='\\t')\n",
    "Unfair_casino_emission.to_csv('emission.csv',sep='\\t')\n",
    "Unfair_casino_beginning_distribution.to_csv('begin_distribution.csv',sep='\\t')\n",
    "\n",
    "# Загрузить данные\n",
    "transition_UC = pd.read_csv('transition.csv',sep='\\t',index_col=0)\n",
    "emission_UC = pd.read_csv('emission.csv',sep='\\t',index_col=0)\n",
    "begin_distribution_UC = pd.read_csv('begin_distribution.csv',sep='\\t',index_col=0)"
   ]
  },
  {
   "cell_type": "code",
   "execution_count": 28,
   "metadata": {
    "collapsed": false
   },
   "outputs": [
    {
     "data": {
      "text/html": [
       "<div>\n",
       "<style scoped>\n",
       "    .dataframe tbody tr th:only-of-type {\n",
       "        vertical-align: middle;\n",
       "    }\n",
       "\n",
       "    .dataframe tbody tr th {\n",
       "        vertical-align: top;\n",
       "    }\n",
       "\n",
       "    .dataframe thead th {\n",
       "        text-align: right;\n",
       "    }\n",
       "</style>\n",
       "<table border=\"1\" class=\"dataframe\">\n",
       "  <thead>\n",
       "    <tr style=\"text-align: right;\">\n",
       "      <th></th>\n",
       "      <th>p0</th>\n",
       "      <th>p1</th>\n",
       "    </tr>\n",
       "  </thead>\n",
       "  <tbody>\n",
       "    <tr>\n",
       "      <th>p0</th>\n",
       "      <td>0.95</td>\n",
       "      <td>0.05</td>\n",
       "    </tr>\n",
       "    <tr>\n",
       "      <th>p1</th>\n",
       "      <td>0.10</td>\n",
       "      <td>0.90</td>\n",
       "    </tr>\n",
       "  </tbody>\n",
       "</table>\n",
       "</div>"
      ],
      "text/plain": [
       "      p0    p1\n",
       "p0  0.95  0.05\n",
       "p1  0.10  0.90"
      ]
     },
     "execution_count": 28,
     "metadata": {},
     "output_type": "execute_result"
    }
   ],
   "source": [
    "transition_UC"
   ]
  },
  {
   "cell_type": "code",
   "execution_count": 29,
   "metadata": {
    "collapsed": false
   },
   "outputs": [
    {
     "data": {
      "text/html": [
       "<div>\n",
       "<style scoped>\n",
       "    .dataframe tbody tr th:only-of-type {\n",
       "        vertical-align: middle;\n",
       "    }\n",
       "\n",
       "    .dataframe tbody tr th {\n",
       "        vertical-align: top;\n",
       "    }\n",
       "\n",
       "    .dataframe thead th {\n",
       "        text-align: right;\n",
       "    }\n",
       "</style>\n",
       "<table border=\"1\" class=\"dataframe\">\n",
       "  <thead>\n",
       "    <tr style=\"text-align: right;\">\n",
       "      <th></th>\n",
       "      <th>e0</th>\n",
       "      <th>e1</th>\n",
       "      <th>e2</th>\n",
       "      <th>e3</th>\n",
       "      <th>e4</th>\n",
       "      <th>e5</th>\n",
       "    </tr>\n",
       "  </thead>\n",
       "  <tbody>\n",
       "    <tr>\n",
       "      <th>p0</th>\n",
       "      <td>0.166667</td>\n",
       "      <td>0.166667</td>\n",
       "      <td>0.166667</td>\n",
       "      <td>0.166667</td>\n",
       "      <td>0.166667</td>\n",
       "      <td>0.166667</td>\n",
       "    </tr>\n",
       "    <tr>\n",
       "      <th>p1</th>\n",
       "      <td>0.100000</td>\n",
       "      <td>0.100000</td>\n",
       "      <td>0.100000</td>\n",
       "      <td>0.100000</td>\n",
       "      <td>0.100000</td>\n",
       "      <td>0.500000</td>\n",
       "    </tr>\n",
       "  </tbody>\n",
       "</table>\n",
       "</div>"
      ],
      "text/plain": [
       "          e0        e1        e2        e3        e4        e5\n",
       "p0  0.166667  0.166667  0.166667  0.166667  0.166667  0.166667\n",
       "p1  0.100000  0.100000  0.100000  0.100000  0.100000  0.500000"
      ]
     },
     "execution_count": 29,
     "metadata": {},
     "output_type": "execute_result"
    }
   ],
   "source": [
    "emission_UC"
   ]
  },
  {
   "cell_type": "code",
   "execution_count": 30,
   "metadata": {
    "collapsed": false
   },
   "outputs": [
    {
     "data": {
      "text/html": [
       "<div>\n",
       "<style scoped>\n",
       "    .dataframe tbody tr th:only-of-type {\n",
       "        vertical-align: middle;\n",
       "    }\n",
       "\n",
       "    .dataframe tbody tr th {\n",
       "        vertical-align: top;\n",
       "    }\n",
       "\n",
       "    .dataframe thead th {\n",
       "        text-align: right;\n",
       "    }\n",
       "</style>\n",
       "<table border=\"1\" class=\"dataframe\">\n",
       "  <thead>\n",
       "    <tr style=\"text-align: right;\">\n",
       "      <th></th>\n",
       "      <th>0</th>\n",
       "    </tr>\n",
       "  </thead>\n",
       "  <tbody>\n",
       "    <tr>\n",
       "      <th>p0</th>\n",
       "      <td>0.666667</td>\n",
       "    </tr>\n",
       "    <tr>\n",
       "      <th>p1</th>\n",
       "      <td>0.333333</td>\n",
       "    </tr>\n",
       "  </tbody>\n",
       "</table>\n",
       "</div>"
      ],
      "text/plain": [
       "           0\n",
       "p0  0.666667\n",
       "p1  0.333333"
      ]
     },
     "execution_count": 30,
     "metadata": {},
     "output_type": "execute_result"
    }
   ],
   "source": [
    "begin_distribution_UC"
   ]
  },
  {
   "cell_type": "code",
   "execution_count": 31,
   "metadata": {
    "collapsed": false
   },
   "outputs": [],
   "source": [
    "# Сгенерировать последовательности\n",
    "path_random_UC = HMMrg_path(begin_distribution_UC,transition_UC,L_UC)\n",
    "sequence_random_UC = HMMrg_sequence(path_random_UC,emission_UC,L_UC)\n",
    "\n",
    "# Сохранить последовательности\n",
    "path_random_UC_df = pd.DataFrame({'path': path_random_UC})\n",
    "path_random_UC_df.to_csv('Path_UC.csv',sep='\\t')\n",
    "sequence_random_UC_df = pd.DataFrame({'sequence': sequence_random_UC})\n",
    "sequence_random_UC_df.to_csv('Emissions_UC.csv',sep='\\t')\n",
    "\n",
    "# Загрузить последовательности\n",
    "path_UC = pd.read_csv('Path_UC.csv',sep='\\t',index_col=0)\n",
    "sequence_UC = pd.read_csv('Emissions_UC.csv',sep='\\t',index_col=0)"
   ]
  },
  {
   "cell_type": "code",
   "execution_count": 32,
   "metadata": {
    "collapsed": false
   },
   "outputs": [
    {
     "name": "stdout",
     "output_type": "stream",
     "text": [
      "    Path (states, Pi): \n",
      "p0  p0  p0  p0  p0  p0  p0  p0  p0  p0  p0  p0  p0  p1  p1  p1  p1  p1  p1  p1  p1  p1  p1  p1  p1  p1  p0  p0  p0  p0  p0  p0  p0  p0  p0  p0  p0  p0  p0  p0  p0  p0  p0  p0  p0  p0  p0  p0  p0  p0  p0  p0  p0  p0  p0  p0  p0  p0  p0  p0  p0  p0  p1  p1  p1  p1  p1  p1  p1  p1  p1  p1  p0  p0  p0  p0  p0  p0  p0  p0  p0  p0  p0  p0  p0  p0  p0  p0  p0  p0  p0  p0  p0  p0  p0  p0  p0  p0  p0  p0  p1  p1  p1  p1  p1  p1  p1  p1  p1  p1  p1  p1  p1  p1  p1  p1  p1  p1  p1  p0  p0  p0  p0  p0  p0  p0  p0  p0  p0  p0  p0  p0  p0  p0  p0  p0  p0  p0  p0  p0  p1  p1  p1  p1  p1  p1  p1  p1  p1  p1  p0  p0  p0  p0  p0  p0  p0  p0  p0  p0  p0  p0  p0  p0  p0  p1  p1  p1  p1  p1  p1  p1  p1  p1  p1  p1  p1  p1  p1  p1  p0  p0  p0  p0  p0  p0  p0  p0  p0  p0  p0  p0  p0  p0  p0  p0  p0  p0  p0  p0  \n",
      "\n",
      "    Emissions (sequence of observation, x): \n",
      "e2  e3  e5  e1  e4  e2  e3  e0  e3  e1  e3  e2  e0  e4  e5  e5  e5  e5  e0  e4  e3  e5  e2  e2  e5  e2  e2  e4  e4  e5  e4  e0  e1  e5  e2  e2  e0  e2  e3  e0  e5  e4  e0  e4  e2  e5  e5  e5  e1  e0  e5  e2  e3  e5  e2  e1  e0  e5  e5  e2  e2  e1  e5  e5  e5  e1  e5  e5  e5  e4  e1  e3  e4  e2  e2  e4  e0  e1  e2  e3  e0  e0  e1  e2  e5  e4  e0  e5  e0  e4  e2  e5  e3  e2  e0  e5  e5  e2  e1  e3  e3  e5  e5  e5  e5  e5  e5  e3  e0  e3  e1  e5  e5  e5  e2  e5  e4  e5  e5  e0  e1  e3  e4  e0  e0  e2  e5  e5  e0  e5  e5  e0  e3  e3  e1  e2  e4  e2  e1  e1  e5  e1  e5  e2  e5  e5  e5  e3  e3  e5  e4  e2  e0  e1  e3  e5  e4  e2  e1  e2  e4  e1  e3  e1  e2  e1  e5  e4  e2  e1  e5  e5  e0  e5  e5  e3  e5  e5  e3  e5  e2  e3  e4  e3  e5  e5  e2  e0  e0  e2  e1  e5  e3  e3  e4  e5  e0  e5  e5  e3  "
     ]
    }
   ],
   "source": [
    "print_path(path_UC)\n",
    "print_emissions(sequence_UC)"
   ]
  },
  {
   "cell_type": "markdown",
   "metadata": {},
   "source": [
    "### 2.2) Viterbi algorithm"
   ]
  },
  {
   "cell_type": "code",
   "execution_count": 33,
   "metadata": {
    "collapsed": false
   },
   "outputs": [],
   "source": [
    "# Восстановить последовательность состояний (алгоритм ВИТЕРБИ)\n",
    "recovered_path_UC = viterbi_algorithm(transition_UC,emission_UC,begin_distribution_UC,sequence_UC)\n",
    "# Восстановить последовательность состояний (алгоритм ВИТЕРБИ в логарифмическом пространстве)\n",
    "recovered_path_UC_log = viterbi_algorithm_log(transition_UC,emission_UC,begin_distribution_UC,sequence_UC)"
   ]
  },
  {
   "cell_type": "code",
   "execution_count": 34,
   "metadata": {
    "collapsed": false
   },
   "outputs": [
    {
     "name": "stdout",
     "output_type": "stream",
     "text": [
      "\n",
      "\n",
      "    Recovered path (states, Pi): \n",
      "p0  p0  p0  p0  p0  p0  p0  p0  p0  p0  p0  p0  p0  p0  p0  p0  p0  p0  p0  p0  p0  p0  p0  p0  p0  p0  p0  p0  p0  p0  p0  p0  p0  p0  p0  p0  p0  p0  p0  p0  p0  p0  p0  p0  p0  p1  p1  p1  p1  p1  p1  p1  p1  p1  p1  p1  p1  p1  p1  p1  p1  p1  p1  p1  p1  p1  p1  p1  p1  p0  p0  p0  p0  p0  p0  p0  p0  p0  p0  p0  p0  p0  p0  p0  p0  p0  p0  p0  p0  p0  p0  p0  p0  p0  p0  p0  p0  p0  p0  p0  p0  p1  p1  p1  p1  p1  p1  p1  p1  p1  p1  p1  p1  p1  p1  p1  p1  p1  p1  p0  p0  p0  p0  p0  p0  p0  p0  p0  p0  p0  p0  p0  p0  p0  p0  p0  p0  p0  p0  p0  p0  p0  p0  p0  p0  p0  p0  p0  p0  p0  p0  p0  p0  p0  p0  p0  p0  p0  p0  p0  p0  p0  p0  p0  p0  p0  p0  p0  p0  p0  p1  p1  p1  p1  p1  p1  p1  p1  p1  p1  p1  p1  p1  p1  p1  p1  p1  p1  p1  p1  p1  p1  p1  p1  p1  p1  p1  p1  p1  p1  \n",
      "\n",
      "    Recovered path using logarithm (states, Pi): \n",
      "p0  p0  p0  p0  p0  p0  p0  p0  p0  p0  p0  p0  p0  p0  p0  p0  p0  p0  p0  p0  p0  p0  p0  p0  p0  p0  p0  p0  p0  p0  p0  p0  p0  p0  p0  p0  p0  p0  p0  p0  p0  p0  p0  p0  p0  p1  p1  p1  p1  p1  p1  p1  p1  p1  p1  p1  p1  p1  p1  p1  p1  p1  p1  p1  p1  p1  p1  p1  p1  p0  p0  p0  p0  p0  p0  p0  p0  p0  p0  p0  p0  p0  p0  p0  p0  p0  p0  p0  p0  p0  p0  p0  p0  p0  p0  p0  p0  p0  p0  p0  p0  p1  p1  p1  p1  p1  p1  p1  p1  p1  p1  p1  p1  p1  p1  p1  p1  p1  p1  p0  p0  p0  p0  p0  p0  p0  p0  p0  p0  p0  p0  p0  p0  p0  p0  p0  p0  p0  p0  p0  p0  p0  p0  p0  p0  p0  p0  p0  p0  p0  p0  p0  p0  p0  p0  p0  p0  p0  p0  p0  p0  p0  p0  p0  p0  p0  p0  p0  p0  p0  p1  p1  p1  p1  p1  p1  p1  p1  p1  p1  p1  p1  p1  p1  p1  p1  p1  p1  p1  p1  p1  p1  p1  p1  p1  p1  p1  p1  p1  p1  "
     ]
    }
   ],
   "source": [
    "print_recovered_path(recovered_path_UC)\n",
    "print_recovered_path_log(recovered_path_UC_log)"
   ]
  },
  {
   "cell_type": "code",
   "execution_count": 35,
   "metadata": {
    "collapsed": false
   },
   "outputs": [
    {
     "name": "stdout",
     "output_type": "stream",
     "text": [
      "\n",
      "\n",
      "       VITERBI analysis of results:\n",
      "NO   logarithm: Right recovers:  131  (out of  200 )\n",
      "WITH logarithm: Right recovers:  131  (out of  200 )\n",
      "   NO vs  WITH: Differences:     0   (out of  200 )\n"
     ]
    }
   ],
   "source": [
    "# Сравнить восстановленные последовательности\n",
    "print_vitberi_analysis(path_UC,recovered_path_UC,recovered_path_UC_log)"
   ]
  },
  {
   "cell_type": "markdown",
   "metadata": {},
   "source": [
    "#### Forward algorithm"
   ]
  },
  {
   "cell_type": "code",
   "execution_count": 36,
   "metadata": {
    "collapsed": false
   },
   "outputs": [
    {
     "name": "stdout",
     "output_type": "stream",
     "text": [
      "Forward algorithm. Sequence Probability (without logarithm): \n",
      " 6.78347779799e-150\n",
      "Forward algorithm. Sequence Probability (using logarithm): \n",
      " -343.473274029\n"
     ]
    }
   ],
   "source": [
    "F_Matrix_UC, F_P_UC = forward_algorithm(transition_UC,emission_UC,begin_distribution_UC,sequence_UC)\n",
    "print('Forward algorithm. Sequence Probability (without logarithm): \\n', F_P_UC)\n",
    "F_Matrix_UC_log, F_P_UC_log = forward_algorithm_log(transition_UC,emission_UC,begin_distribution_UC,sequence_UC)\n",
    "print('Forward algorithm. Sequence Probability (using logarithm): \\n', F_P_UC_log)"
   ]
  },
  {
   "cell_type": "markdown",
   "metadata": {
    "collapsed": true
   },
   "source": [
    "#### Backward algorithm"
   ]
  },
  {
   "cell_type": "code",
   "execution_count": 37,
   "metadata": {
    "collapsed": false
   },
   "outputs": [
    {
     "name": "stdout",
     "output_type": "stream",
     "text": [
      "Backward algorithm. Sequence Probability (without logarithm): \n",
      " 6.78347779799e-150\n",
      "Backward algorithm. Sequence Probability (using logarithm): \n",
      " -343.473274029\n"
     ]
    }
   ],
   "source": [
    "B_Matrix_UC, B_P_UC = backward_algorithm(transition_UC,emission_UC,begin_distribution_UC,sequence_UC)\n",
    "print('Backward algorithm. Sequence Probability (without logarithm): \\n', B_P_UC)\n",
    "B_Matrix_UC_log, B_P_UC_log = backward_algorithm_log(transition_UC,emission_UC,begin_distribution_UC,sequence_UC)\n",
    "print('Backward algorithm. Sequence Probability (using logarithm): \\n', B_P_UC_log)"
   ]
  },
  {
   "cell_type": "markdown",
   "metadata": {},
   "source": [
    "### 2.3) Posterior probability"
   ]
  },
  {
   "cell_type": "markdown",
   "metadata": {},
   "source": [
    "#### Posterior decoing"
   ]
  },
  {
   "cell_type": "code",
   "execution_count": 38,
   "metadata": {
    "collapsed": true
   },
   "outputs": [],
   "source": [
    "post_UC = posterior_decoding(F_Matrix_UC, B_Matrix_UC, F_P_UC)"
   ]
  },
  {
   "cell_type": "code",
   "execution_count": 39,
   "metadata": {
    "collapsed": true
   },
   "outputs": [],
   "source": [
    "# This function shows the plot, where posterior probability is compared to the\n",
    "# regions of the path (where fair or unfair dice was used).\n",
    "\n",
    "def plot_dice_posterior_probability(\n",
    "    path, \n",
    "    posterior_probability_path, \n",
    "    green_state = 0,\n",
    "    green_label = 'Fair dice',\n",
    "    red_label = 'Unfair dice',\n",
    "    line_label='Probability of fair dice',\n",
    "    alpha=0.2):\n",
    "    \n",
    "    L = len(path['path'])\n",
    "    state_path = np.zeros(L)\n",
    "    for i in range(L):\n",
    "        state_path[i] = path['path'][i][1]\n",
    "    \n",
    "    cur_color = state_path[0]\n",
    "    start = 0\n",
    "    \n",
    "    for i in range(1, len(state_path)):\n",
    "        if state_path[i] == cur_color:\n",
    "            continue\n",
    "        else:\n",
    "            if cur_color == green_state:\n",
    "                plt.axvspan(start, i, facecolor = 'green', alpha = alpha)\n",
    "            else:\n",
    "                plt.axvspan(start, i, facecolor = 'red', alpha = alpha)\n",
    "            start = i\n",
    "            cur_color = state_path[i]\n",
    "    \n",
    "    if state_path[-1] == 0:\n",
    "        plt.axvspan(start, len(state_path) - 1, facecolor = 'green', alpha = alpha)\n",
    "    else:\n",
    "        plt.axvspan(start, len(state_path) - 1, facecolor = 'red', alpha = alpha)\n",
    "\n",
    "    plt.plot(posterior_probability_path, color = 'blue')\n",
    "    \n",
    "    green_path = mpatches.Patch(color='green', alpha = alpha, label = green_label)\n",
    "    red_path = mpatches.Patch(color='red', alpha = alpha, label = red_label)\n",
    "    blue_line = lines.Line2D([],[], color = 'blue', label = line_label)\n",
    "    \n",
    "    plt.legend(\n",
    "        handles = [green_path, red_path, blue_line],\n",
    "        bbox_to_anchor = (0., 1.02, 1., .102), loc = 3,\n",
    "        ncol = 1, mode = 'expand', borderaxespad = 0.)\n",
    "    \n",
    "    plt.show()"
   ]
  },
  {
   "cell_type": "markdown",
   "metadata": {},
   "source": [
    "#### PLOT: Posterior Probability combared with the Simulated Path"
   ]
  },
  {
   "cell_type": "code",
   "execution_count": 40,
   "metadata": {
    "collapsed": false
   },
   "outputs": [
    {
     "data": {
      "image/png": "[encoded data removed]",
      "text/plain": [
       "<matplotlib.figure.Figure at 0x8c3d3c8>"
      ]
     },
     "metadata": {},
     "output_type": "display_data"
    }
   ],
   "source": [
    "plot_dice_posterior_probability(path_UC, post_UC)"
   ]
  },
  {
   "cell_type": "markdown",
   "metadata": {},
   "source": [
    "#### PLOT: Posterior Probability combared with the Recovered Path"
   ]
  },
  {
   "cell_type": "code",
   "execution_count": 41,
   "metadata": {
    "collapsed": false
   },
   "outputs": [
    {
     "data": {
      "image/png": "[encoded data removed]",
      "text/plain": [
       "<matplotlib.figure.Figure at 0x49b6be0>"
      ]
     },
     "metadata": {},
     "output_type": "display_data"
    }
   ],
   "source": [
    "plot_dice_posterior_probability(pd.DataFrame({'path': recovered_path_UC_log}), post_UC)"
   ]
  },
  {
   "cell_type": "markdown",
   "metadata": {},
   "source": [
    "# Algorithm Checking"
   ]
  },
  {
   "cell_type": "markdown",
   "metadata": {},
   "source": [
    "Дополнительное задание из прошлого письма:\n",
    "1. Нужно сгенерировать 1000 случайных последовательностей (за основу берётся нечестное казино из второй части домашнего задания). \n",
    "2. Посчитать для них вероятность при помощи алгоритма прямого хода (получаю оценку распределения вероятностей на последовательностях)\n",
    "3. Посчитайть процент последовательностей, вероятность которых меньше, чем вероятность исходной последовательности (за исходную беру ту, что сгенерированна выше для нечестного казино из второй части домашнего задания)"
   ]
  },
  {
   "cell_type": "code",
   "execution_count": 42,
   "metadata": {
    "collapsed": false
   },
   "outputs": [
    {
     "name": "stdout",
     "output_type": "stream",
     "text": [
      "There are  85.7 % sequences, that's probabilities are lower, then the original one.\n"
     ]
    }
   ],
   "source": [
    "total = 1000\n",
    "exception = 0\n",
    "\n",
    "for i in range(total):\n",
    "    sequence_random_UC = HMMrg_sequence(path_random_UC,emission_UC,L_UC)\n",
    "    sequence_random_UC_df = pd.DataFrame({'sequence': sequence_random_UC})\n",
    "    Matrix, P = forward_algorithm_log(transition_UC,emission_UC,begin_distribution_UC,sequence_random_UC_df)\n",
    "    if (P < F_P_UC_log):\n",
    "        exception+=1\n",
    "\n",
    "print(\"There are \", 100*exception/total ,\"% sequences, that's probabilities are lower, then the original one.\")"
   ]
  },
  {
   "cell_type": "markdown",
   "metadata": {},
   "source": [
    "Результат не выходит за рамки: < 5% или > 95% - значит с некоторым допущением можно сказать, что алгоритмы работают правильно :D"
   ]
  },
  {
   "cell_type": "markdown",
   "metadata": {},
   "source": [
    "# UC example from Danilova"
   ]
  },
  {
   "cell_type": "markdown",
   "metadata": {},
   "source": [
    "Дополнительное задание из прошлого письма: сверил работу алгоритмов с Екатериной Даниловой, на примере её исходных данных."
   ]
  },
  {
   "cell_type": "code",
   "execution_count": 43,
   "metadata": {
    "collapsed": false
   },
   "outputs": [
    {
     "name": "stdout",
     "output_type": "stream",
     "text": [
      "Длина последовательности:  300\n"
     ]
    }
   ],
   "source": [
    "lines_danilova = ['315116246446644245311321631164',\n",
    "                  'FFFFFFFFFFFFFFFFFFFFFFFFFFFFFF',\n",
    "                  '152133625144543631656626566666',\n",
    "                  'FFFFFFFFFFFFFFFLLLLLLLLLLLLLLL',\n",
    "                  '651166453132651245636664631636',\n",
    "                  'LLLLLLFFFFFFFFFFFFLLLLLLLLLLLL',\n",
    "                  '663162326455236266666625151631',\n",
    "                  'LLLLFFFLLLLLLLLLLLLLLFFFFFFFFF',\n",
    "                  '222555441666566563564324364131',\n",
    "                  'FFFFFFFFLLLLLLLLLLLLLFFFFFFFFF',\n",
    "                  '513465146353411126414626253356',\n",
    "                  'FFFFFFFFFFFFFFFFFFFFFFFFFFFFLL',\n",
    "                  '366163666466232534413661661163',\n",
    "                  'LLLLLLLLFFFFFFFFFFFFFFFFFFFFFF',\n",
    "                  '252562462255265252266435353336',\n",
    "                  'FFFFFFFFFFFFFFFFFFFFFFFFFFFFFF',\n",
    "                  '233121625364414432335163243633',\n",
    "                  'FFFFFFFFFFFFFFFFFFFFFFFFFFFLLL',\n",
    "                  '665562466662632666612355245242',\n",
    "                  'LLLLLLLLLLLLLLLLLLLFFFFFFFFFFF']\n",
    "observation_lines = [line for i, line in enumerate(lines_danilova) if i%2 == 0]\n",
    "observations = [int(x) for x in ''.join(observation_lines)]\n",
    "estimate_lines = [line for i, line in enumerate(lines_danilova) if i%2 == 1]\n",
    "estimates = [0 if x == 'F' else 1 for x in ''.join(estimate_lines)]\n",
    "\n",
    "L_danilova = len(observations)\n",
    "print('Длина последовательности: ',L_danilova)\n",
    "\n",
    "path_danilova = []\n",
    "for i in range(L_danilova):\n",
    "    path_danilova.append('p'+str(estimates[i]))\n",
    "path_danilova = pd.DataFrame({'path': path_danilova})\n",
    "\n",
    "sequence_danilova = []\n",
    "for i in range(L_danilova):\n",
    "    sequence_danilova.append('e'+str(observations[i]-1))\n",
    "sequence_danilova = pd.DataFrame({'sequence': sequence_danilova})"
   ]
  },
  {
   "cell_type": "code",
   "execution_count": 44,
   "metadata": {
    "collapsed": true
   },
   "outputs": [],
   "source": [
    "#print_path(path_danilova)\n",
    "#print_emissions(sequence_danilova)"
   ]
  },
  {
   "cell_type": "markdown",
   "metadata": {},
   "source": [
    "#### Viterbi algorithm"
   ]
  },
  {
   "cell_type": "code",
   "execution_count": 45,
   "metadata": {
    "collapsed": false
   },
   "outputs": [],
   "source": [
    "# Восстановить последовательность состояний (алгоритм ВИТЕРБИ)\n",
    "recovered_path_danilova = viterbi_algorithm(transition_UC,emission_UC,begin_distribution_UC,sequence_danilova)\n",
    "# Восстановить последовательность состояний (алгоритм ВИТЕРБИ используя логорифм)\n",
    "recovered_path_danilova_log = viterbi_algorithm_log(transition_UC,emission_UC,begin_distribution_UC,sequence_danilova)"
   ]
  },
  {
   "cell_type": "code",
   "execution_count": 46,
   "metadata": {
    "collapsed": false
   },
   "outputs": [
    {
     "name": "stdout",
     "output_type": "stream",
     "text": [
      "\n",
      "\n",
      "       VITERBI analysis of results:\n",
      "NO   logarithm: Right recovers:  272  (out of  300 )\n",
      "WITH logarithm: Right recovers:  272  (out of  300 )\n",
      "   NO vs  WITH: Differences:     0   (out of  300 )\n"
     ]
    }
   ],
   "source": [
    "#print_recovered_path(recovered_path_danilova)\n",
    "#print_recovered_path_log(recovered_path_danilova_log)\n",
    "\n",
    "# Сравнить восстановленные последовательности\n",
    "print_vitberi_analysis(path_danilova,recovered_path_danilova,recovered_path_danilova_log)"
   ]
  },
  {
   "cell_type": "markdown",
   "metadata": {},
   "source": [
    "Результаты совпали"
   ]
  },
  {
   "cell_type": "markdown",
   "metadata": {},
   "source": [
    "#### Forward algorithm"
   ]
  },
  {
   "cell_type": "code",
   "execution_count": 47,
   "metadata": {
    "collapsed": false
   },
   "outputs": [
    {
     "name": "stdout",
     "output_type": "stream",
     "text": [
      "Forward algorithm. Sequence Probability (without logarithm): \n",
      " 3.8266688037e-225\n",
      "Forward algorithm. Sequence Probability (using logarithm): \n",
      " -516.739651263\n"
     ]
    }
   ],
   "source": [
    "F_Matrix_danilova, F_P_danilova = forward_algorithm(transition_UC,emission_UC,begin_distribution_UC,sequence_danilova)\n",
    "print('Forward algorithm. Sequence Probability (without logarithm): \\n', F_P_danilova)\n",
    "F_Matrix_danilova_log, F_P_danilova_log = forward_algorithm_log(transition_UC,emission_UC,begin_distribution_UC,sequence_danilova)\n",
    "print('Forward algorithm. Sequence Probability (using logarithm): \\n', F_P_danilova_log)"
   ]
  },
  {
   "cell_type": "markdown",
   "metadata": {},
   "source": [
    "Результаты совпали"
   ]
  },
  {
   "cell_type": "markdown",
   "metadata": {},
   "source": [
    "#### Backward algorithm"
   ]
  },
  {
   "cell_type": "code",
   "execution_count": 48,
   "metadata": {
    "collapsed": false
   },
   "outputs": [
    {
     "name": "stdout",
     "output_type": "stream",
     "text": [
      "Backward algorithm. Sequence Probability (without logarithm): \n",
      " 3.8266688037e-225\n",
      "Backward algorithm. Sequence Probability (using logarithm): \n",
      " -516.739651263\n"
     ]
    }
   ],
   "source": [
    "B_Matrix_danilova, B_P_danilova = backward_algorithm(transition_UC,emission_UC,begin_distribution_UC,sequence_danilova)\n",
    "print('Backward algorithm. Sequence Probability (without logarithm): \\n', B_P_danilova)\n",
    "B_Matrix_danilova_log, B_P_danilova_log = backward_algorithm_log(transition_UC,emission_UC,begin_distribution_UC,sequence_danilova)\n",
    "print('Backward algorithm. Sequence Probability (using logarithm): \\n', B_P_danilova_log)"
   ]
  },
  {
   "cell_type": "markdown",
   "metadata": {},
   "source": [
    "Результаты совпали"
   ]
  },
  {
   "cell_type": "markdown",
   "metadata": {},
   "source": [
    "#### Posterior decoing"
   ]
  },
  {
   "cell_type": "code",
   "execution_count": 49,
   "metadata": {
    "collapsed": true
   },
   "outputs": [],
   "source": [
    "post_danilova = posterior_decoding(F_Matrix_danilova, B_Matrix_danilova, F_P_danilova)"
   ]
  },
  {
   "cell_type": "markdown",
   "metadata": {},
   "source": [
    "#### PLOT: Posterior Probability combared with the Simulated Path"
   ]
  },
  {
   "cell_type": "code",
   "execution_count": 50,
   "metadata": {
    "collapsed": false
   },
   "outputs": [
    {
     "data": {
      "image/png": "[encoded data removed]",
      "text/plain": [
       "<matplotlib.figure.Figure at 0x8ebeda0>"
      ]
     },
     "metadata": {},
     "output_type": "display_data"
    }
   ],
   "source": [
    "plot_dice_posterior_probability(path_danilova, post_danilova)"
   ]
  },
  {
   "cell_type": "markdown",
   "metadata": {},
   "source": [
    "#### PLOT: Posterior Probability combared with the Recovered Path"
   ]
  },
  {
   "cell_type": "code",
   "execution_count": 51,
   "metadata": {
    "collapsed": false
   },
   "outputs": [
    {
     "data": {
      "image/png": "[encoded data removed]",
      "text/plain": [
       "<matplotlib.figure.Figure at 0x9947668>"
      ]
     },
     "metadata": {},
     "output_type": "display_data"
    }
   ],
   "source": [
    "plot_dice_posterior_probability(pd.DataFrame({'path': recovered_path_danilova_log}), post_danilova)"
   ]
  }
 ],
 "metadata": {
  "anaconda-cloud": {},
  "kernelspec": {
   "display_name": "Python [conda root]",
   "language": "python",
   "name": "conda-root-py"
  },
  "language_info": {
   "codemirror_mode": {
    "name": "ipython",
    "version": 3
   },
   "file_extension": ".py",
   "mimetype": "text/x-python",
   "name": "python",
   "nbconvert_exporter": "python",
   "pygments_lexer": "ipython3",
   "version": "3.5.2"
  }
 },
 "nbformat": 4,
 "nbformat_minor": 1
}
